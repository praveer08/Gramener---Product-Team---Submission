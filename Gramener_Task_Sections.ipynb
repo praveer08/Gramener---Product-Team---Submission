{
 "cells": [
  {
   "cell_type": "markdown",
   "metadata": {},
   "source": [
    "## Programming Task in Python"
   ]
  },
  {
   "cell_type": "markdown",
   "metadata": {},
   "source": [
    "#1:Given two lists L1 = ['a', 'b', 'c'], L2 = ['b', 'd'], find common elements, find elements present in L1\n",
    "and not in L2?"
   ]
  },
  {
   "cell_type": "code",
   "execution_count": 108,
   "metadata": {
    "collapsed": true
   },
   "outputs": [],
   "source": [
    "L1 = ['a','b','c']\n",
    "L2 = ['b','d']"
   ]
  },
  {
   "cell_type": "markdown",
   "metadata": {},
   "source": [
    "Find common elements"
   ]
  },
  {
   "cell_type": "code",
   "execution_count": 109,
   "metadata": {
    "collapsed": true
   },
   "outputs": [],
   "source": [
    "def common_elements(l1,l2) :\n",
    "    # Using set property and take intersection\n",
    "    return set(l1) & set(l2);"
   ]
  },
  {
   "cell_type": "code",
   "execution_count": 110,
   "metadata": {},
   "outputs": [
    {
     "data": {
      "text/plain": [
       "{'b'}"
      ]
     },
     "execution_count": 110,
     "metadata": {},
     "output_type": "execute_result"
    }
   ],
   "source": [
    "common_elements(L1,L2)"
   ]
  },
  {
   "cell_type": "markdown",
   "metadata": {},
   "source": [
    "Elements present in L1 and not in L2"
   ]
  },
  {
   "cell_type": "code",
   "execution_count": 111,
   "metadata": {
    "collapsed": true
   },
   "outputs": [],
   "source": [
    "def l1_not_l2(l1,l2) :\n",
    "    # Using set property and Subtraction\n",
    "    return set(l1)-set(l2) ;"
   ]
  },
  {
   "cell_type": "code",
   "execution_count": 112,
   "metadata": {},
   "outputs": [
    {
     "data": {
      "text/plain": [
       "{'a', 'c'}"
      ]
     },
     "execution_count": 112,
     "metadata": {},
     "output_type": "execute_result"
    }
   ],
   "source": [
    "l1_not_l2(L1,L2)"
   ]
  },
  {
   "cell_type": "markdown",
   "metadata": {},
   "source": [
    "#2: Thrusday Count between 1990-2000"
   ]
  },
  {
   "cell_type": "code",
   "execution_count": 113,
   "metadata": {
    "collapsed": true
   },
   "outputs": [],
   "source": [
    "from datetime import date  ## for data and weekday;\n",
    "\n",
    "def thrusday_count(year_range) :\n",
    "    \n",
    "    min_thr = 52   ## 52 weeks in a year\n",
    "    count = 0      ## Count for Thrusday\n",
    "    \n",
    "    for i in range(year_range[0],year_range[1]+1):\n",
    "        \n",
    "        if (i%100==0) :         ### Check for a decade\n",
    "                            \n",
    "            if (i%400==0) :     ### Check for a leap year\n",
    "                        \n",
    "                            ### Checking Last two Days \n",
    "                if ((date(1990, 12, 31).weekday()==3) or (date(1990, 12, 30).weekday()==3)) :\n",
    "                    count += (min_thr+1) \n",
    "                else :\n",
    "                    count += min_thr\n",
    "                    \n",
    "        elif(i%4==0) :    ###  Check for a leap year     \n",
    "            \n",
    "                        ### Checking Last two Days \n",
    "            if ((date(1990, 12, 31).weekday()==3) or (date(1990, 12, 31).weekday()==3)) :\n",
    "                count += (min_thr+1) \n",
    "            else :\n",
    "                count += min_thr\n",
    "\n",
    "        else :\n",
    "                 ### Checking Last Day\n",
    "            if ((date(1990, 12, 31).weekday()==3)) :\n",
    "                count += (min_thr+1) \n",
    "            else :\n",
    "                count += min_thr\n",
    "    return count"
   ]
  },
  {
   "cell_type": "code",
   "execution_count": 114,
   "metadata": {},
   "outputs": [
    {
     "data": {
      "text/plain": [
       "572"
      ]
     },
     "execution_count": 114,
     "metadata": {},
     "output_type": "execute_result"
    }
   ],
   "source": [
    "thrusday_count([1990,2000])"
   ]
  },
  {
   "cell_type": "markdown",
   "metadata": {},
   "source": [
    "## Data Analysis Part "
   ]
  },
  {
   "cell_type": "markdown",
   "metadata": {},
   "source": [
    "# Use case 2 - 2011 India Census"
   ]
  },
  {
   "cell_type": "code",
   "execution_count": 115,
   "metadata": {
    "collapsed": true
   },
   "outputs": [],
   "source": [
    "## Loading libraries\n",
    "import pandas as pd    ## for data manipulation\n",
    "import numpy as np     ## for array and matrices operations  \n",
    "import matplotlib.pyplot as plt         ## For interactive visualizations\n",
    "import geopandas as gpd                 # For plotting maps"
   ]
  },
  {
   "cell_type": "markdown",
   "metadata": {},
   "source": [
    "Setting Matplotlib plot style and figure size"
   ]
  },
  {
   "cell_type": "code",
   "execution_count": 116,
   "metadata": {
    "collapsed": true
   },
   "outputs": [],
   "source": [
    "plt.style.use(['ggplot'])\n",
    "plt.rcParams['figure.figsize'] = (10,8)"
   ]
  },
  {
   "cell_type": "markdown",
   "metadata": {},
   "source": [
    "#### Reading Data and Print it's first 5 rows"
   ]
  },
  {
   "cell_type": "code",
   "execution_count": 117,
   "metadata": {
    "collapsed": true
   },
   "outputs": [],
   "source": [
    "census_data = pd.read_csv('india_2011.csv')"
   ]
  },
  {
   "cell_type": "code",
   "execution_count": 118,
   "metadata": {},
   "outputs": [
    {
     "data": {
      "text/html": [
       "<div>\n",
       "<style scoped>\n",
       "    .dataframe tbody tr th:only-of-type {\n",
       "        vertical-align: middle;\n",
       "    }\n",
       "\n",
       "    .dataframe tbody tr th {\n",
       "        vertical-align: top;\n",
       "    }\n",
       "\n",
       "    .dataframe thead th {\n",
       "        text-align: right;\n",
       "    }\n",
       "</style>\n",
       "<table border=\"1\" class=\"dataframe\">\n",
       "  <thead>\n",
       "    <tr style=\"text-align: right;\">\n",
       "      <th></th>\n",
       "      <th>District code</th>\n",
       "      <th>State name</th>\n",
       "      <th>District name</th>\n",
       "      <th>Population</th>\n",
       "      <th>Male</th>\n",
       "      <th>Female</th>\n",
       "      <th>Literate</th>\n",
       "      <th>Male_Literate</th>\n",
       "      <th>Female_Literate</th>\n",
       "      <th>SC</th>\n",
       "      <th>...</th>\n",
       "      <th>Power_Parity_Rs_90000_150000</th>\n",
       "      <th>Power_Parity_Rs_45000_150000</th>\n",
       "      <th>Power_Parity_Rs_150000_240000</th>\n",
       "      <th>Power_Parity_Rs_240000_330000</th>\n",
       "      <th>Power_Parity_Rs_150000_330000</th>\n",
       "      <th>Power_Parity_Rs_330000_425000</th>\n",
       "      <th>Power_Parity_Rs_425000_545000</th>\n",
       "      <th>Power_Parity_Rs_330000_545000</th>\n",
       "      <th>Power_Parity_Above_Rs_545000</th>\n",
       "      <th>Total_Power_Parity</th>\n",
       "    </tr>\n",
       "  </thead>\n",
       "  <tbody>\n",
       "    <tr>\n",
       "      <th>0</th>\n",
       "      <td>1</td>\n",
       "      <td>JAMMU &amp; KASHMIR</td>\n",
       "      <td>Kupwara</td>\n",
       "      <td>870354</td>\n",
       "      <td>474190</td>\n",
       "      <td>396164</td>\n",
       "      <td>439654</td>\n",
       "      <td>282823</td>\n",
       "      <td>156831</td>\n",
       "      <td>1048</td>\n",
       "      <td>...</td>\n",
       "      <td>94</td>\n",
       "      <td>588</td>\n",
       "      <td>71</td>\n",
       "      <td>101</td>\n",
       "      <td>172</td>\n",
       "      <td>74</td>\n",
       "      <td>10</td>\n",
       "      <td>84</td>\n",
       "      <td>15</td>\n",
       "      <td>1119</td>\n",
       "    </tr>\n",
       "    <tr>\n",
       "      <th>1</th>\n",
       "      <td>2</td>\n",
       "      <td>JAMMU &amp; KASHMIR</td>\n",
       "      <td>Badgam</td>\n",
       "      <td>753745</td>\n",
       "      <td>398041</td>\n",
       "      <td>355704</td>\n",
       "      <td>335649</td>\n",
       "      <td>207741</td>\n",
       "      <td>127908</td>\n",
       "      <td>368</td>\n",
       "      <td>...</td>\n",
       "      <td>126</td>\n",
       "      <td>562</td>\n",
       "      <td>72</td>\n",
       "      <td>89</td>\n",
       "      <td>161</td>\n",
       "      <td>96</td>\n",
       "      <td>28</td>\n",
       "      <td>124</td>\n",
       "      <td>18</td>\n",
       "      <td>1066</td>\n",
       "    </tr>\n",
       "    <tr>\n",
       "      <th>2</th>\n",
       "      <td>3</td>\n",
       "      <td>JAMMU &amp; KASHMIR</td>\n",
       "      <td>Leh(Ladakh)</td>\n",
       "      <td>133487</td>\n",
       "      <td>78971</td>\n",
       "      <td>54516</td>\n",
       "      <td>93770</td>\n",
       "      <td>62834</td>\n",
       "      <td>30936</td>\n",
       "      <td>488</td>\n",
       "      <td>...</td>\n",
       "      <td>46</td>\n",
       "      <td>122</td>\n",
       "      <td>15</td>\n",
       "      <td>22</td>\n",
       "      <td>37</td>\n",
       "      <td>20</td>\n",
       "      <td>14</td>\n",
       "      <td>34</td>\n",
       "      <td>17</td>\n",
       "      <td>242</td>\n",
       "    </tr>\n",
       "    <tr>\n",
       "      <th>3</th>\n",
       "      <td>4</td>\n",
       "      <td>JAMMU &amp; KASHMIR</td>\n",
       "      <td>Kargil</td>\n",
       "      <td>140802</td>\n",
       "      <td>77785</td>\n",
       "      <td>63017</td>\n",
       "      <td>86236</td>\n",
       "      <td>56301</td>\n",
       "      <td>29935</td>\n",
       "      <td>18</td>\n",
       "      <td>...</td>\n",
       "      <td>27</td>\n",
       "      <td>114</td>\n",
       "      <td>12</td>\n",
       "      <td>18</td>\n",
       "      <td>30</td>\n",
       "      <td>19</td>\n",
       "      <td>3</td>\n",
       "      <td>22</td>\n",
       "      <td>7</td>\n",
       "      <td>214</td>\n",
       "    </tr>\n",
       "    <tr>\n",
       "      <th>4</th>\n",
       "      <td>5</td>\n",
       "      <td>JAMMU &amp; KASHMIR</td>\n",
       "      <td>Punch</td>\n",
       "      <td>476835</td>\n",
       "      <td>251899</td>\n",
       "      <td>224936</td>\n",
       "      <td>261724</td>\n",
       "      <td>163333</td>\n",
       "      <td>98391</td>\n",
       "      <td>556</td>\n",
       "      <td>...</td>\n",
       "      <td>78</td>\n",
       "      <td>346</td>\n",
       "      <td>35</td>\n",
       "      <td>50</td>\n",
       "      <td>85</td>\n",
       "      <td>59</td>\n",
       "      <td>8</td>\n",
       "      <td>67</td>\n",
       "      <td>12</td>\n",
       "      <td>629</td>\n",
       "    </tr>\n",
       "  </tbody>\n",
       "</table>\n",
       "<p>5 rows × 118 columns</p>\n",
       "</div>"
      ],
      "text/plain": [
       "   District code       State name District name  Population    Male  Female  \\\n",
       "0              1  JAMMU & KASHMIR       Kupwara      870354  474190  396164   \n",
       "1              2  JAMMU & KASHMIR        Badgam      753745  398041  355704   \n",
       "2              3  JAMMU & KASHMIR   Leh(Ladakh)      133487   78971   54516   \n",
       "3              4  JAMMU & KASHMIR        Kargil      140802   77785   63017   \n",
       "4              5  JAMMU & KASHMIR         Punch      476835  251899  224936   \n",
       "\n",
       "   Literate  Male_Literate  Female_Literate    SC         ...          \\\n",
       "0    439654         282823           156831  1048         ...           \n",
       "1    335649         207741           127908   368         ...           \n",
       "2     93770          62834            30936   488         ...           \n",
       "3     86236          56301            29935    18         ...           \n",
       "4    261724         163333            98391   556         ...           \n",
       "\n",
       "   Power_Parity_Rs_90000_150000  Power_Parity_Rs_45000_150000  \\\n",
       "0                            94                           588   \n",
       "1                           126                           562   \n",
       "2                            46                           122   \n",
       "3                            27                           114   \n",
       "4                            78                           346   \n",
       "\n",
       "   Power_Parity_Rs_150000_240000  Power_Parity_Rs_240000_330000  \\\n",
       "0                             71                            101   \n",
       "1                             72                             89   \n",
       "2                             15                             22   \n",
       "3                             12                             18   \n",
       "4                             35                             50   \n",
       "\n",
       "   Power_Parity_Rs_150000_330000  Power_Parity_Rs_330000_425000  \\\n",
       "0                            172                             74   \n",
       "1                            161                             96   \n",
       "2                             37                             20   \n",
       "3                             30                             19   \n",
       "4                             85                             59   \n",
       "\n",
       "   Power_Parity_Rs_425000_545000  Power_Parity_Rs_330000_545000  \\\n",
       "0                             10                             84   \n",
       "1                             28                            124   \n",
       "2                             14                             34   \n",
       "3                              3                             22   \n",
       "4                              8                             67   \n",
       "\n",
       "   Power_Parity_Above_Rs_545000  Total_Power_Parity  \n",
       "0                            15                1119  \n",
       "1                            18                1066  \n",
       "2                            17                 242  \n",
       "3                             7                 214  \n",
       "4                            12                 629  \n",
       "\n",
       "[5 rows x 118 columns]"
      ]
     },
     "execution_count": 118,
     "metadata": {},
     "output_type": "execute_result"
    }
   ],
   "source": [
    "census_data.head()     ##Printing Head Data"
   ]
  },
  {
   "cell_type": "markdown",
   "metadata": {},
   "source": [
    "#### Showing Data Property"
   ]
  },
  {
   "cell_type": "code",
   "execution_count": 119,
   "metadata": {},
   "outputs": [
    {
     "data": {
      "text/html": [
       "<div>\n",
       "<style scoped>\n",
       "    .dataframe tbody tr th:only-of-type {\n",
       "        vertical-align: middle;\n",
       "    }\n",
       "\n",
       "    .dataframe tbody tr th {\n",
       "        vertical-align: top;\n",
       "    }\n",
       "\n",
       "    .dataframe thead th {\n",
       "        text-align: right;\n",
       "    }\n",
       "</style>\n",
       "<table border=\"1\" class=\"dataframe\">\n",
       "  <thead>\n",
       "    <tr style=\"text-align: right;\">\n",
       "      <th></th>\n",
       "      <th>District code</th>\n",
       "      <th>Population</th>\n",
       "      <th>Male</th>\n",
       "      <th>Female</th>\n",
       "      <th>Literate</th>\n",
       "      <th>Male_Literate</th>\n",
       "      <th>Female_Literate</th>\n",
       "      <th>SC</th>\n",
       "      <th>Male_SC</th>\n",
       "      <th>Female_SC</th>\n",
       "      <th>...</th>\n",
       "      <th>Power_Parity_Rs_90000_150000</th>\n",
       "      <th>Power_Parity_Rs_45000_150000</th>\n",
       "      <th>Power_Parity_Rs_150000_240000</th>\n",
       "      <th>Power_Parity_Rs_240000_330000</th>\n",
       "      <th>Power_Parity_Rs_150000_330000</th>\n",
       "      <th>Power_Parity_Rs_330000_425000</th>\n",
       "      <th>Power_Parity_Rs_425000_545000</th>\n",
       "      <th>Power_Parity_Rs_330000_545000</th>\n",
       "      <th>Power_Parity_Above_Rs_545000</th>\n",
       "      <th>Total_Power_Parity</th>\n",
       "    </tr>\n",
       "  </thead>\n",
       "  <tbody>\n",
       "    <tr>\n",
       "      <th>count</th>\n",
       "      <td>640.000000</td>\n",
       "      <td>6.400000e+02</td>\n",
       "      <td>6.400000e+02</td>\n",
       "      <td>6.400000e+02</td>\n",
       "      <td>6.400000e+02</td>\n",
       "      <td>6.400000e+02</td>\n",
       "      <td>6.400000e+02</td>\n",
       "      <td>6.400000e+02</td>\n",
       "      <td>6.400000e+02</td>\n",
       "      <td>6.400000e+02</td>\n",
       "      <td>...</td>\n",
       "      <td>640.000000</td>\n",
       "      <td>640.000000</td>\n",
       "      <td>640.000000</td>\n",
       "      <td>640.000000</td>\n",
       "      <td>640.000000</td>\n",
       "      <td>640.000000</td>\n",
       "      <td>640.000000</td>\n",
       "      <td>640.000000</td>\n",
       "      <td>640.000000</td>\n",
       "      <td>640.000000</td>\n",
       "    </tr>\n",
       "    <tr>\n",
       "      <th>mean</th>\n",
       "      <td>320.500000</td>\n",
       "      <td>1.891961e+06</td>\n",
       "      <td>9.738598e+05</td>\n",
       "      <td>9.181011e+05</td>\n",
       "      <td>1.193186e+06</td>\n",
       "      <td>6.793182e+05</td>\n",
       "      <td>5.138675e+05</td>\n",
       "      <td>3.146537e+05</td>\n",
       "      <td>1.617739e+05</td>\n",
       "      <td>1.528798e+05</td>\n",
       "      <td>...</td>\n",
       "      <td>786.046875</td>\n",
       "      <td>1696.456250</td>\n",
       "      <td>294.000000</td>\n",
       "      <td>215.300000</td>\n",
       "      <td>509.300000</td>\n",
       "      <td>194.204688</td>\n",
       "      <td>261.245313</td>\n",
       "      <td>455.450000</td>\n",
       "      <td>279.631250</td>\n",
       "      <td>3315.412500</td>\n",
       "    </tr>\n",
       "    <tr>\n",
       "      <th>std</th>\n",
       "      <td>184.896367</td>\n",
       "      <td>1.544380e+06</td>\n",
       "      <td>8.007785e+05</td>\n",
       "      <td>7.449864e+05</td>\n",
       "      <td>1.068583e+06</td>\n",
       "      <td>5.924144e+05</td>\n",
       "      <td>4.801816e+05</td>\n",
       "      <td>3.129818e+05</td>\n",
       "      <td>1.611216e+05</td>\n",
       "      <td>1.520336e+05</td>\n",
       "      <td>...</td>\n",
       "      <td>1038.854733</td>\n",
       "      <td>1720.535151</td>\n",
       "      <td>638.345281</td>\n",
       "      <td>362.684243</td>\n",
       "      <td>968.538748</td>\n",
       "      <td>424.108001</td>\n",
       "      <td>587.279450</td>\n",
       "      <td>1007.364839</td>\n",
       "      <td>1050.934537</td>\n",
       "      <td>4638.568719</td>\n",
       "    </tr>\n",
       "    <tr>\n",
       "      <th>min</th>\n",
       "      <td>1.000000</td>\n",
       "      <td>8.004000e+03</td>\n",
       "      <td>4.414000e+03</td>\n",
       "      <td>3.590000e+03</td>\n",
       "      <td>4.436000e+03</td>\n",
       "      <td>2.614000e+03</td>\n",
       "      <td>1.822000e+03</td>\n",
       "      <td>0.000000e+00</td>\n",
       "      <td>0.000000e+00</td>\n",
       "      <td>0.000000e+00</td>\n",
       "      <td>...</td>\n",
       "      <td>0.000000</td>\n",
       "      <td>0.000000</td>\n",
       "      <td>0.000000</td>\n",
       "      <td>0.000000</td>\n",
       "      <td>0.000000</td>\n",
       "      <td>0.000000</td>\n",
       "      <td>0.000000</td>\n",
       "      <td>0.000000</td>\n",
       "      <td>0.000000</td>\n",
       "      <td>9.000000</td>\n",
       "    </tr>\n",
       "    <tr>\n",
       "      <th>25%</th>\n",
       "      <td>160.750000</td>\n",
       "      <td>8.178610e+05</td>\n",
       "      <td>4.171682e+05</td>\n",
       "      <td>4.017458e+05</td>\n",
       "      <td>4.825982e+05</td>\n",
       "      <td>2.764365e+05</td>\n",
       "      <td>2.008920e+05</td>\n",
       "      <td>8.320850e+04</td>\n",
       "      <td>4.230700e+04</td>\n",
       "      <td>4.267175e+04</td>\n",
       "      <td>...</td>\n",
       "      <td>236.750000</td>\n",
       "      <td>589.000000</td>\n",
       "      <td>59.000000</td>\n",
       "      <td>24.750000</td>\n",
       "      <td>95.000000</td>\n",
       "      <td>19.000000</td>\n",
       "      <td>21.000000</td>\n",
       "      <td>44.000000</td>\n",
       "      <td>18.000000</td>\n",
       "      <td>1024.250000</td>\n",
       "    </tr>\n",
       "    <tr>\n",
       "      <th>50%</th>\n",
       "      <td>320.500000</td>\n",
       "      <td>1.557367e+06</td>\n",
       "      <td>7.986815e+05</td>\n",
       "      <td>7.589200e+05</td>\n",
       "      <td>9.573465e+05</td>\n",
       "      <td>5.483525e+05</td>\n",
       "      <td>4.038590e+05</td>\n",
       "      <td>2.460160e+05</td>\n",
       "      <td>1.255485e+05</td>\n",
       "      <td>1.178550e+05</td>\n",
       "      <td>...</td>\n",
       "      <td>518.000000</td>\n",
       "      <td>1220.500000</td>\n",
       "      <td>149.000000</td>\n",
       "      <td>118.500000</td>\n",
       "      <td>278.000000</td>\n",
       "      <td>84.000000</td>\n",
       "      <td>85.500000</td>\n",
       "      <td>186.500000</td>\n",
       "      <td>60.500000</td>\n",
       "      <td>2238.500000</td>\n",
       "    </tr>\n",
       "    <tr>\n",
       "      <th>75%</th>\n",
       "      <td>480.250000</td>\n",
       "      <td>2.583551e+06</td>\n",
       "      <td>1.338604e+06</td>\n",
       "      <td>1.264277e+06</td>\n",
       "      <td>1.602260e+06</td>\n",
       "      <td>9.188582e+05</td>\n",
       "      <td>6.641550e+05</td>\n",
       "      <td>4.477078e+05</td>\n",
       "      <td>2.284602e+05</td>\n",
       "      <td>2.140502e+05</td>\n",
       "      <td>...</td>\n",
       "      <td>941.250000</td>\n",
       "      <td>2233.250000</td>\n",
       "      <td>296.500000</td>\n",
       "      <td>262.000000</td>\n",
       "      <td>564.500000</td>\n",
       "      <td>213.250000</td>\n",
       "      <td>293.000000</td>\n",
       "      <td>497.000000</td>\n",
       "      <td>215.500000</td>\n",
       "      <td>3959.000000</td>\n",
       "    </tr>\n",
       "    <tr>\n",
       "      <th>max</th>\n",
       "      <td>640.000000</td>\n",
       "      <td>1.106015e+07</td>\n",
       "      <td>5.865078e+06</td>\n",
       "      <td>5.195070e+06</td>\n",
       "      <td>8.227161e+06</td>\n",
       "      <td>4.591396e+06</td>\n",
       "      <td>3.635765e+06</td>\n",
       "      <td>2.464032e+06</td>\n",
       "      <td>1.266504e+06</td>\n",
       "      <td>1.197528e+06</td>\n",
       "      <td>...</td>\n",
       "      <td>10334.000000</td>\n",
       "      <td>13819.000000</td>\n",
       "      <td>10835.000000</td>\n",
       "      <td>3595.000000</td>\n",
       "      <td>14430.000000</td>\n",
       "      <td>5027.000000</td>\n",
       "      <td>7597.000000</td>\n",
       "      <td>12624.000000</td>\n",
       "      <td>18289.000000</td>\n",
       "      <td>60163.000000</td>\n",
       "    </tr>\n",
       "  </tbody>\n",
       "</table>\n",
       "<p>8 rows × 116 columns</p>\n",
       "</div>"
      ],
      "text/plain": [
       "       District code    Population          Male        Female      Literate  \\\n",
       "count     640.000000  6.400000e+02  6.400000e+02  6.400000e+02  6.400000e+02   \n",
       "mean      320.500000  1.891961e+06  9.738598e+05  9.181011e+05  1.193186e+06   \n",
       "std       184.896367  1.544380e+06  8.007785e+05  7.449864e+05  1.068583e+06   \n",
       "min         1.000000  8.004000e+03  4.414000e+03  3.590000e+03  4.436000e+03   \n",
       "25%       160.750000  8.178610e+05  4.171682e+05  4.017458e+05  4.825982e+05   \n",
       "50%       320.500000  1.557367e+06  7.986815e+05  7.589200e+05  9.573465e+05   \n",
       "75%       480.250000  2.583551e+06  1.338604e+06  1.264277e+06  1.602260e+06   \n",
       "max       640.000000  1.106015e+07  5.865078e+06  5.195070e+06  8.227161e+06   \n",
       "\n",
       "       Male_Literate  Female_Literate            SC       Male_SC  \\\n",
       "count   6.400000e+02     6.400000e+02  6.400000e+02  6.400000e+02   \n",
       "mean    6.793182e+05     5.138675e+05  3.146537e+05  1.617739e+05   \n",
       "std     5.924144e+05     4.801816e+05  3.129818e+05  1.611216e+05   \n",
       "min     2.614000e+03     1.822000e+03  0.000000e+00  0.000000e+00   \n",
       "25%     2.764365e+05     2.008920e+05  8.320850e+04  4.230700e+04   \n",
       "50%     5.483525e+05     4.038590e+05  2.460160e+05  1.255485e+05   \n",
       "75%     9.188582e+05     6.641550e+05  4.477078e+05  2.284602e+05   \n",
       "max     4.591396e+06     3.635765e+06  2.464032e+06  1.266504e+06   \n",
       "\n",
       "          Female_SC         ...          Power_Parity_Rs_90000_150000  \\\n",
       "count  6.400000e+02         ...                            640.000000   \n",
       "mean   1.528798e+05         ...                            786.046875   \n",
       "std    1.520336e+05         ...                           1038.854733   \n",
       "min    0.000000e+00         ...                              0.000000   \n",
       "25%    4.267175e+04         ...                            236.750000   \n",
       "50%    1.178550e+05         ...                            518.000000   \n",
       "75%    2.140502e+05         ...                            941.250000   \n",
       "max    1.197528e+06         ...                          10334.000000   \n",
       "\n",
       "       Power_Parity_Rs_45000_150000  Power_Parity_Rs_150000_240000  \\\n",
       "count                    640.000000                     640.000000   \n",
       "mean                    1696.456250                     294.000000   \n",
       "std                     1720.535151                     638.345281   \n",
       "min                        0.000000                       0.000000   \n",
       "25%                      589.000000                      59.000000   \n",
       "50%                     1220.500000                     149.000000   \n",
       "75%                     2233.250000                     296.500000   \n",
       "max                    13819.000000                   10835.000000   \n",
       "\n",
       "       Power_Parity_Rs_240000_330000  Power_Parity_Rs_150000_330000  \\\n",
       "count                     640.000000                     640.000000   \n",
       "mean                      215.300000                     509.300000   \n",
       "std                       362.684243                     968.538748   \n",
       "min                         0.000000                       0.000000   \n",
       "25%                        24.750000                      95.000000   \n",
       "50%                       118.500000                     278.000000   \n",
       "75%                       262.000000                     564.500000   \n",
       "max                      3595.000000                   14430.000000   \n",
       "\n",
       "       Power_Parity_Rs_330000_425000  Power_Parity_Rs_425000_545000  \\\n",
       "count                     640.000000                     640.000000   \n",
       "mean                      194.204688                     261.245313   \n",
       "std                       424.108001                     587.279450   \n",
       "min                         0.000000                       0.000000   \n",
       "25%                        19.000000                      21.000000   \n",
       "50%                        84.000000                      85.500000   \n",
       "75%                       213.250000                     293.000000   \n",
       "max                      5027.000000                    7597.000000   \n",
       "\n",
       "       Power_Parity_Rs_330000_545000  Power_Parity_Above_Rs_545000  \\\n",
       "count                     640.000000                    640.000000   \n",
       "mean                      455.450000                    279.631250   \n",
       "std                      1007.364839                   1050.934537   \n",
       "min                         0.000000                      0.000000   \n",
       "25%                        44.000000                     18.000000   \n",
       "50%                       186.500000                     60.500000   \n",
       "75%                       497.000000                    215.500000   \n",
       "max                     12624.000000                  18289.000000   \n",
       "\n",
       "       Total_Power_Parity  \n",
       "count          640.000000  \n",
       "mean          3315.412500  \n",
       "std           4638.568719  \n",
       "min              9.000000  \n",
       "25%           1024.250000  \n",
       "50%           2238.500000  \n",
       "75%           3959.000000  \n",
       "max          60163.000000  \n",
       "\n",
       "[8 rows x 116 columns]"
      ]
     },
     "execution_count": 119,
     "metadata": {},
     "output_type": "execute_result"
    }
   ],
   "source": [
    "census_data.describe()     ## Describing Data"
   ]
  },
  {
   "cell_type": "markdown",
   "metadata": {},
   "source": [
    "### understanding the data column"
   ]
  },
  {
   "cell_type": "code",
   "execution_count": 120,
   "metadata": {},
   "outputs": [
    {
     "name": "stdout",
     "output_type": "stream",
     "text": [
      "District code: int64\n",
      "\n",
      "State name: object\n",
      "\n",
      "District name: object\n",
      "\n",
      "Population: int64\n",
      "\n",
      "Male: int64\n",
      "\n",
      "Female: int64\n",
      "\n",
      "Literate: int64\n",
      "\n",
      "Male_Literate: int64\n",
      "\n",
      "Female_Literate: int64\n",
      "\n",
      "SC: int64\n",
      "\n",
      "Male_SC: int64\n",
      "\n",
      "Female_SC: int64\n",
      "\n",
      "ST: int64\n",
      "\n",
      "Male_ST: int64\n",
      "\n",
      "Female_ST: int64\n",
      "\n",
      "Workers: int64\n",
      "\n",
      "Male_Workers: int64\n",
      "\n",
      "Female_Workers: int64\n",
      "\n",
      "Main_Workers: int64\n",
      "\n",
      "Marginal_Workers: int64\n",
      "\n",
      "Non_Workers: int64\n",
      "\n",
      "Cultivator_Workers: int64\n",
      "\n",
      "Agricultural_Workers: int64\n",
      "\n",
      "Household_Workers: int64\n",
      "\n",
      "Other_Workers: int64\n",
      "\n",
      "Hindus: int64\n",
      "\n",
      "Muslims: int64\n",
      "\n",
      "Christians: int64\n",
      "\n",
      "Sikhs: int64\n",
      "\n",
      "Buddhists: int64\n",
      "\n",
      "Jains: int64\n",
      "\n",
      "Others_Religions: int64\n",
      "\n",
      "Religion_Not_Stated: int64\n",
      "\n",
      "LPG_or_PNG_Households: int64\n",
      "\n",
      "Housholds_with_Electric_Lighting: int64\n",
      "\n",
      "Households_with_Internet: int64\n",
      "\n",
      "Households_with_Computer: int64\n",
      "\n",
      "Rural_Households: int64\n",
      "\n",
      "Urban_Households: int64\n",
      "\n",
      "Households: int64\n",
      "\n",
      "Below_Primary_Education: int64\n",
      "\n",
      "Primary_Education: int64\n",
      "\n",
      "Middle_Education: int64\n",
      "\n",
      "Secondary_Education: int64\n",
      "\n",
      "Higher_Education: int64\n",
      "\n",
      "Graduate_Education: int64\n",
      "\n",
      "Other_Education: int64\n",
      "\n",
      "Literate_Education: int64\n",
      "\n",
      "Illiterate_Education: int64\n",
      "\n",
      "Total_Education: int64\n",
      "\n",
      "Age_Group_0_29: int64\n",
      "\n",
      "Age_Group_30_49: int64\n",
      "\n",
      "Age_Group_50: int64\n",
      "\n",
      "Age not stated: int64\n",
      "\n",
      "Households_with_Bicycle: int64\n",
      "\n",
      "Households_with_Car_Jeep_Van: int64\n",
      "\n",
      "Households_with_Radio_Transistor: int64\n",
      "\n",
      "Households_with_Scooter_Motorcycle_Moped: int64\n",
      "\n",
      "Households_with_Telephone_Mobile_Phone_Landline_only: int64\n",
      "\n",
      "Households_with_Telephone_Mobile_Phone_Mobile_only: int64\n",
      "\n",
      "Households_with_TV_Computer_Laptop_Telephone_mobile_phone_and_Scooter_Car: int64\n",
      "\n",
      "Households_with_Television: int64\n",
      "\n",
      "Households_with_Telephone_Mobile_Phone: int64\n",
      "\n",
      "Households_with_Telephone_Mobile_Phone_Both: int64\n",
      "\n",
      "Condition_of_occupied_census_houses_Dilapidated_Households: int64\n",
      "\n",
      "Households_with_separate_kitchen_Cooking_inside_house: int64\n",
      "\n",
      "Having_bathing_facility_Total_Households: int64\n",
      "\n",
      "Having_latrine_facility_within_the_premises_Total_Households: int64\n",
      "\n",
      "Ownership_Owned_Households: int64\n",
      "\n",
      "Ownership_Rented_Households: int64\n",
      "\n",
      "Type_of_bathing_facility_Enclosure_without_roof_Households: int64\n",
      "\n",
      "Type_of_fuel_used_for_cooking_Any_other_Households: int64\n",
      "\n",
      "Type_of_latrine_facility_Pit_latrine_Households: int64\n",
      "\n",
      "Type_of_latrine_facility_Other_latrine_Households: int64\n",
      "\n",
      "Type_of_latrine_facility_Night_soil_disposed_into_open_drain_Households: int64\n",
      "\n",
      "Type_of_latrine_facility_Flush_pour_flush_latrine_connected_to_other_system_Households: int64\n",
      "\n",
      "Not_having_bathing_facility_within_the_premises_Total_Households: int64\n",
      "\n",
      "Not_having_latrine_facility_within_the_premises_Alternative_source_Open_Households: int64\n",
      "\n",
      "Main_source_of_drinking_water_Un_covered_well_Households: int64\n",
      "\n",
      "Main_source_of_drinking_water_Handpump_Tubewell_Borewell_Households: int64\n",
      "\n",
      "Main_source_of_drinking_water_Spring_Households: int64\n",
      "\n",
      "Main_source_of_drinking_water_River_Canal_Households: int64\n",
      "\n",
      "Main_source_of_drinking_water_Other_sources_Households: int64\n",
      "\n",
      "Main_source_of_drinking_water_Other_sources_Spring_River_Canal_Tank_Pond_Lake_Other_sources__Households: int64\n",
      "\n",
      "Location_of_drinking_water_source_Near_the_premises_Households: int64\n",
      "\n",
      "Location_of_drinking_water_source_Within_the_premises_Households: int64\n",
      "\n",
      "Main_source_of_drinking_water_Tank_Pond_Lake_Households: int64\n",
      "\n",
      "Main_source_of_drinking_water_Tapwater_Households: int64\n",
      "\n",
      "Main_source_of_drinking_water_Tubewell_Borehole_Households: int64\n",
      "\n",
      "Household_size_1_person_Households: int64\n",
      "\n",
      "Household_size_2_persons_Households: int64\n",
      "\n",
      "Household_size_1_to_2_persons: int64\n",
      "\n",
      "Household_size_3_persons_Households: int64\n",
      "\n",
      "Household_size_3_to_5_persons_Households: int64\n",
      "\n",
      "Household_size_4_persons_Households: int64\n",
      "\n",
      "Household_size_5_persons_Households: int64\n",
      "\n",
      "Household_size_6_8_persons_Households: int64\n",
      "\n",
      "Household_size_9_persons_and_above_Households: int64\n",
      "\n",
      "Location_of_drinking_water_source_Away_Households: int64\n",
      "\n",
      "Married_couples_1_Households: int64\n",
      "\n",
      "Married_couples_2_Households: int64\n",
      "\n",
      "Married_couples_3_Households: int64\n",
      "\n",
      "Married_couples_3_or_more_Households: int64\n",
      "\n",
      "Married_couples_4_Households: int64\n",
      "\n",
      "Married_couples_5__Households: int64\n",
      "\n",
      "Married_couples_None_Households: int64\n",
      "\n",
      "Power_Parity_Less_than_Rs_45000: int64\n",
      "\n",
      "Power_Parity_Rs_45000_90000: int64\n",
      "\n",
      "Power_Parity_Rs_90000_150000: int64\n",
      "\n",
      "Power_Parity_Rs_45000_150000: int64\n",
      "\n",
      "Power_Parity_Rs_150000_240000: int64\n",
      "\n",
      "Power_Parity_Rs_240000_330000: int64\n",
      "\n",
      "Power_Parity_Rs_150000_330000: int64\n",
      "\n",
      "Power_Parity_Rs_330000_425000: int64\n",
      "\n",
      "Power_Parity_Rs_425000_545000: int64\n",
      "\n",
      "Power_Parity_Rs_330000_545000: int64\n",
      "\n",
      "Power_Parity_Above_Rs_545000: int64\n",
      "\n",
      "Total_Power_Parity: int64\n",
      "\n"
     ]
    }
   ],
   "source": [
    "\n",
    "for i in census_data.columns:\n",
    "    print('{}: {}\\n'.format(i, census_data[i].dtype))"
   ]
  },
  {
   "cell_type": "markdown",
   "metadata": {},
   "source": [
    "### list of all the categorical Variables"
   ]
  },
  {
   "cell_type": "code",
   "execution_count": 121,
   "metadata": {},
   "outputs": [
    {
     "data": {
      "text/plain": [
       "['State name', 'District name']"
      ]
     },
     "execution_count": 121,
     "metadata": {},
     "output_type": "execute_result"
    }
   ],
   "source": [
    "cat_var = [i for i in census_data.columns if census_data[i].dtype==object]\n",
    "cat_var"
   ]
  },
  {
   "cell_type": "code",
   "execution_count": 122,
   "metadata": {
    "collapsed": true
   },
   "outputs": [],
   "source": [
    "census_data[cat_var[0]] = census_data[cat_var[0]].astype('category')\n",
    "census_data[cat_var[1]] = census_data[cat_var[1]].astype('category')"
   ]
  },
  {
   "cell_type": "markdown",
   "metadata": {},
   "source": [
    "### Calculating the literacy rate statewise"
   ]
  },
  {
   "cell_type": "markdown",
   "metadata": {},
   "source": [
    "#### calculate total number of literate people statewise"
   ]
  },
  {
   "cell_type": "code",
   "execution_count": 123,
   "metadata": {
    "collapsed": true
   },
   "outputs": [],
   "source": [
    "lit_pop = census_data.groupby('State name')['Literate'].agg('sum')     ## Sum of Literate People of a Particular State\n",
    "tot_pop = census_data.groupby('State name')['Population'].agg('sum')   ## Sum of Population of a Particular State\n",
    "lit_rate = (lit_pop/tot_pop)*100                                       ## Percentage of Literate People in State"
   ]
  },
  {
   "cell_type": "markdown",
   "metadata": {},
   "source": [
    "#### Printing top 10 states with lowest literacy rate"
   ]
  },
  {
   "cell_type": "code",
   "execution_count": 124,
   "metadata": {},
   "outputs": [
    {
     "data": {
      "text/plain": [
       "State name\n",
       "BIHAR                50.436916\n",
       "ARUNACHAL PRADESH    55.358102\n",
       "JHARKHAND            55.559581\n",
       "RAJASTHAN            55.836841\n",
       "JAMMU & KASHMIR      56.351669\n",
       "UTTAR PRADESH        57.252497\n",
       "MADHYA PRADESH       59.001861\n",
       "ANDHRA PRADESH       59.773345\n",
       "MEGHALAYA            60.164199\n",
       "CHHATTISGARH         60.206705\n",
       "dtype: float64"
      ]
     },
     "execution_count": 124,
     "metadata": {},
     "output_type": "execute_result"
    }
   ],
   "source": [
    "lit_rate.sort_values().head(10)  "
   ]
  },
  {
   "cell_type": "code",
   "execution_count": 125,
   "metadata": {
    "collapsed": true
   },
   "outputs": [],
   "source": [
    "## Reading the shape files for plotting state boundaries of India.\n",
    "india = gpd.read_file('INDIA.shp')"
   ]
  },
  {
   "cell_type": "code",
   "execution_count": 126,
   "metadata": {},
   "outputs": [
    {
     "data": {
      "text/html": [
       "<div>\n",
       "<style scoped>\n",
       "    .dataframe tbody tr th:only-of-type {\n",
       "        vertical-align: middle;\n",
       "    }\n",
       "\n",
       "    .dataframe tbody tr th {\n",
       "        vertical-align: top;\n",
       "    }\n",
       "\n",
       "    .dataframe thead th {\n",
       "        text-align: right;\n",
       "    }\n",
       "</style>\n",
       "<table border=\"1\" class=\"dataframe\">\n",
       "  <thead>\n",
       "    <tr style=\"text-align: right;\">\n",
       "      <th></th>\n",
       "      <th>geometry</th>\n",
       "    </tr>\n",
       "  </thead>\n",
       "  <tbody>\n",
       "    <tr>\n",
       "      <th>0</th>\n",
       "      <td>(POLYGON ((92.898888 12.915831, 92.89917 12.91...</td>\n",
       "    </tr>\n",
       "    <tr>\n",
       "      <th>1</th>\n",
       "      <td>POLYGON ((83.943192 18.214308, 83.942359999999...</td>\n",
       "    </tr>\n",
       "  </tbody>\n",
       "</table>\n",
       "</div>"
      ],
      "text/plain": [
       "                                            geometry\n",
       "0  (POLYGON ((92.898888 12.915831, 92.89917 12.91...\n",
       "1  POLYGON ((83.943192 18.214308, 83.942359999999..."
      ]
     },
     "execution_count": 126,
     "metadata": {},
     "output_type": "execute_result"
    }
   ],
   "source": [
    "india.head(2)   ## Printing 1st 2 Location data"
   ]
  },
  {
   "cell_type": "code",
   "execution_count": 127,
   "metadata": {},
   "outputs": [
    {
     "data": {
      "image/png": "[encoded data removed]",
      "text/plain": [
       "<matplotlib.figure.Figure at 0x7f1a56296b00>"
      ]
     },
     "metadata": {},
     "output_type": "display_data"
    }
   ],
   "source": [
    "## Ploting Literacy Rate data\n",
    "india['lit_rate'] = lit_rate.values      ## Adding Column of %Litercy in India Dataframe\n",
    "india.plot(column = 'lit_rate', figsize=(20,10),cmap='Blues',legend=True)   ## Setting  Intensity Plot for %Literacy of India\n",
    "plt.axis('off')\n",
    "plt.title('Literacy rate across India')\n",
    "plt.show()"
   ]
  },
  {
   "cell_type": "markdown",
   "metadata": {},
   "source": [
    "## Finding the most simillar districts based on the given parameter\n",
    "The given below code will display all the districts in Bihar simillar to districts in Tamilnadu. Based on any one numerical parameter, it will display simillar districs by measuring just the absolute difference between the numbers.\n",
    "For example i have taken our parameter as the Total_Power_parity to display the simillar districts. We can use other parameters like population to display the simillarity."
   ]
  },
  {
   "cell_type": "code",
   "execution_count": 128,
   "metadata": {},
   "outputs": [
    {
     "data": {
      "text/plain": [
       "[('Thiruvallur', 'Patna'),\n",
       " ('Chennai', 'Patna'),\n",
       " ('Kancheepuram', 'Patna'),\n",
       " ('Vellore', 'Patna'),\n",
       " ('Tiruvannamalai', 'Muzaffarpur'),\n",
       " ('Viluppuram', 'Muzaffarpur'),\n",
       " ('Salem', 'Patna'),\n",
       " ('Namakkal', 'Saran'),\n",
       " ('Erode', 'Patna'),\n",
       " ('The Nilgiris', 'Araria'),\n",
       " ('Dindigul', 'Muzaffarpur'),\n",
       " ('Karur', 'Aurangabad'),\n",
       " ('Tiruchirappalli', 'Patna'),\n",
       " ('Perambalur', 'Jehanabad'),\n",
       " ('Ariyalur', 'Khagaria'),\n",
       " ('Cuddalore', 'Muzaffarpur'),\n",
       " ('Nagapattinam', 'Siwan'),\n",
       " ('Thiruvarur', 'Aurangabad'),\n",
       " ('Thanjavur', 'Muzaffarpur'),\n",
       " ('Pudukkottai', 'Bhagalpur'),\n",
       " ('Sivaganga', 'Katihar'),\n",
       " ('Madurai', 'Patna'),\n",
       " ('Theni', 'Purnia'),\n",
       " ('Virudhunagar', 'Muzaffarpur'),\n",
       " ('Ramanathapuram', 'Begusarai'),\n",
       " ('Thoothukkudi', 'Saran'),\n",
       " ('Tirunelveli', 'Patna'),\n",
       " ('Kanniyakumari', 'Muzaffarpur'),\n",
       " ('Dharmapuri', 'Gopalganj'),\n",
       " ('Krishnagiri', 'Pashchim Champaran'),\n",
       " ('Coimbatore', 'Patna'),\n",
       " ('Tiruppur', 'Patna')]"
      ]
     },
     "execution_count": 128,
     "metadata": {},
     "output_type": "execute_result"
    }
   ],
   "source": [
    "# Here is the function to calculate absolute simillarity between Bihar and TamilNadu based on any single dimension parameter.\n",
    "\n",
    "\n",
    "\n",
    "def Simillarity(param):\n",
    "    \n",
    "    B_dist = census_data[census_data['State name']== 'BIHAR']  ## Select all the districts of Bihar\n",
    "    B_dist_p = B_dist[['District name',param]]\n",
    "\n",
    "    T_dist = census_data[census_data['State name']=='TAMIL NADU']  #Select all the districts of TamilNadu\n",
    "    T_dist_p = T_dist[['District name',param]]\n",
    "\n",
    "    \n",
    "    simillar = []\n",
    "\n",
    "    for l,i in enumerate(T_dist_p[param].values):      \n",
    "        temp = np.zeros(len(B_dist_p))\n",
    "        for k,j in enumerate(B_dist_p[param].values):   \n",
    "            temp[k] = abs(i-j)\n",
    "        m = np.argmin(temp)     ### chosing the index having minimum absolute difference.\n",
    "\n",
    "        simillar.append((l,m))\n",
    "    \n",
    "    d2 = B_dist_p['District name']\n",
    "    d1 = T_dist_p['District name']\n",
    "\n",
    "    simillar_dist = [(d1.iloc[i[0]], d2.iloc[i[1]]) for i in simillar]  ## Displaying all the simillar districts.\n",
    "    \n",
    "    return simillar_dist\n",
    "\n",
    "\n",
    "        \n",
    "Simillarity('Total_Power_Parity')        "
   ]
  },
  {
   "cell_type": "markdown",
   "metadata": {},
   "source": [
    "## Mobile Penetration Variation with regions (districts or states) with high or low agricultural workers"
   ]
  },
  {
   "cell_type": "code",
   "execution_count": 129,
   "metadata": {
    "collapsed": true
   },
   "outputs": [],
   "source": [
    "state_list = list(census_data['State name'].unique())   ## Accessing State List"
   ]
  },
  {
   "cell_type": "markdown",
   "metadata": {},
   "source": [
    "#### In worker_mobile_scatter plot method we do scatterplot between Agricultural_Workers number and  number of mobiles phones they and see if there any trend exist i.e with increasing no. of Agricultural_Workers is mobile increases"
   ]
  },
  {
   "cell_type": "code",
   "execution_count": 130,
   "metadata": {
    "collapsed": true
   },
   "outputs": [],
   "source": [
    "def worker_mobile_scatter(state) :\n",
    "    state = state.upper() ;      ## Changing state name into capital \n",
    "    \n",
    "    ## Ending Function with message if state not in list\n",
    "    if state not in state_list :\n",
    "        print(state,'Not Found')\n",
    "        return ;\n",
    "    \n",
    "       ### Subsetting of data of Particular State and Columns \n",
    "    df1 = census_data[census_data['State name']==state]\n",
    "    df = df1[['District name','Agricultural_Workers','Households_with_Telephone_Mobile_Phone_Mobile_only']]\n",
    "    \n",
    "     ### Renaming the Columns \n",
    "    df.rename(columns={'Agricultural_Workers':'Worker','Households_with_Telephone_Mobile_Phone_Mobile_only':'Mobile'},inplace=True)\n",
    "    \n",
    "    \n",
    "    df.reset_index(inplace=True) \n",
    "    \n",
    "    ## Sorting values on Worker_count column\n",
    "    df2 = df.sort_values('Worker',ascending=True)\n",
    "    \n",
    "    ## Plotting Scatter Plot\n",
    "    fig = plt.figure();\n",
    "    plt.scatter(df2['Worker'],df2['Mobile'])\n",
    "    plt.xlabel('Agricultral Worker in'+state)\n",
    "    plt.ylabel('No. of Mobile Phone Variation')\n",
    "    plt.title('Mobile phone Variation w.r.t worker no.')\n",
    "    plt.show()"
   ]
  },
  {
   "cell_type": "code",
   "execution_count": 131,
   "metadata": {},
   "outputs": [
    {
     "name": "stderr",
     "output_type": "stream",
     "text": [
      "/home/bhumihar/anaconda3/envs/geopandas/lib/python3.6/site-packages/pandas/core/frame.py:3027: SettingWithCopyWarning: \n",
      "A value is trying to be set on a copy of a slice from a DataFrame\n",
      "\n",
      "See the caveats in the documentation: http://pandas.pydata.org/pandas-docs/stable/indexing.html#indexing-view-versus-copy\n",
      "  return super(DataFrame, self).rename(**kwargs)\n"
     ]
    },
    {
     "data": {
      "image/png": "[encoded data removed]",
      "text/plain": [
       "<matplotlib.figure.Figure at 0x7f1a56095a58>"
      ]
     },
     "metadata": {},
     "output_type": "display_data"
    }
   ],
   "source": [
    "## Calling Functio for Bihar State\n",
    "worker_mobile_scatter('bihar')"
   ]
  },
  {
   "cell_type": "markdown",
   "metadata": {},
   "source": [
    "#### In worker_phone_corr  method we find correlation between Agricultural_Workers number and  number of mobiles phones for each region in state and pass them in corr_mat_plot method and plot map and visulise correlation between them using intensity plot."
   ]
  },
  {
   "cell_type": "code",
   "execution_count": 132,
   "metadata": {
    "collapsed": true
   },
   "outputs": [],
   "source": [
    "def worker_phone_corr() :\n",
    "    corr_val = []\n",
    "    i=0\n",
    "       \n",
    "    for state in state_list : \n",
    "        \n",
    "         ### Subsetting of data of Particular State and Columns \n",
    "        df1 = census_data[census_data['State name']==state]\n",
    "        df = df1[['District name','Agricultural_Workers','Households_with_Telephone_Mobile_Phone_Mobile_only']]\n",
    "        \n",
    "        ### Renaming the Columns \n",
    "        df.rename(columns={'Agricultural_Workers':'Worker','Households_with_Telephone_Mobile_Phone_Mobile_only':'Mobile'},inplace=True)\n",
    "        \n",
    "         ## Resetting the index\n",
    "        df.reset_index(inplace=True)\n",
    "        df2 = df.sort_values('Worker',ascending=True)\n",
    "        \n",
    "        ## If state has only one Region then some default value\n",
    "        if df2.shape[0] >1:\n",
    "            corr_val.append(df2['Worker'].corr(df2['Mobile']))\n",
    "        else :\n",
    "            corr_val.append(0.001)\n",
    "        i +=1  \n",
    "    return corr_val\n",
    "\n",
    "def corr_mat_plot(corr_val) :\n",
    "        ## Reading Data \n",
    "    india = gpd.read_file('INDIA.shx')\n",
    "    india['corr'] = corr_val\n",
    "    \n",
    "     ## Ploting Intensity Map\n",
    "    india.plot(column = 'corr', figsize=(20,10),cmap='Blues',legend=True)\n",
    "    plt.axis('off')\n",
    "    plt.title('Mobile phone correlation w.r.t Agricultural Workers no.')\n",
    "    plt.show()    "
   ]
  },
  {
   "cell_type": "code",
   "execution_count": 133,
   "metadata": {},
   "outputs": [
    {
     "name": "stderr",
     "output_type": "stream",
     "text": [
      "/home/bhumihar/anaconda3/envs/geopandas/lib/python3.6/site-packages/pandas/core/frame.py:3027: SettingWithCopyWarning: \n",
      "A value is trying to be set on a copy of a slice from a DataFrame\n",
      "\n",
      "See the caveats in the documentation: http://pandas.pydata.org/pandas-docs/stable/indexing.html#indexing-view-versus-copy\n",
      "  return super(DataFrame, self).rename(**kwargs)\n"
     ]
    },
    {
     "data": {
      "image/png": "[encoded data removed]",
      "text/plain": [
       "<matplotlib.figure.Figure at 0x7f1a561c2208>"
      ]
     },
     "metadata": {},
     "output_type": "display_data"
    }
   ],
   "source": [
    "   ## Calling Function\n",
    "corr_val = worker_phone_corr()\n",
    "corr_mat_plot(corr_val)"
   ]
  },
  {
   "cell_type": "markdown",
   "metadata": {},
   "source": [
    "### Demographics of India and its state"
   ]
  },
  {
   "cell_type": "code",
   "execution_count": 134,
   "metadata": {
    "collapsed": true
   },
   "outputs": [],
   "source": [
    "def state_demography(state) :\n",
    "    state = state.upper()         ## Changing state name into capital \n",
    "    \n",
    "    ## Ending Function with message if state not in list\n",
    "    if state not in state_list :\n",
    "        print(state,'Not Found')\n",
    "        return ;    \n",
    "    \n",
    "    col_name = ['Population','Hindus', 'Muslims', 'Christians', 'Sikhs', 'Buddhists', 'Jains','Others_Religions','Religion_Not_Stated']\n",
    "\n",
    "    ## Calculating State PoPulation\n",
    "    state_pol = census_data.groupby('State name')[col_name].agg('sum')\n",
    "    \n",
    "    ## Calculating % of each religion of State PoPulation\n",
    "    pop_val = (state_pol.loc[state][1:].values*100)/state_pol.loc[state][0]\n",
    "    x_pos = np.arange(len(col_name[1:]))\n",
    "    \n",
    "    ## bar plot\n",
    "    plt.bar(x_pos,pop_val,align='center',alpha=0.5)\n",
    "    plt.xticks(x_pos,col_name)\n",
    "    plt.ylabel('%Population of each Religion')\n",
    "    plt.title('Demographic of '+state)\n",
    "    plt.show()"
   ]
  },
  {
   "cell_type": "code",
   "execution_count": 135,
   "metadata": {},
   "outputs": [
    {
     "data": {
      "image/png": "[encoded data removed]",
      "text/plain": [
       "<matplotlib.figure.Figure at 0x7f1a5618fd30>"
      ]
     },
     "metadata": {},
     "output_type": "display_data"
    }
   ],
   "source": [
    "state_demography('Rajasthan')"
   ]
  },
  {
   "cell_type": "markdown",
   "metadata": {},
   "source": [
    "### Select any Religion number which propotion across india you want to Show on Map\n",
    "### 1:Hindus\n",
    "### 2:Muslims\n",
    "### 3:Christians\n",
    "### 4:Sikhs\n",
    "### 5:Buddhists\n",
    "### 6:Jains\n",
    "### 7:Others_Religions\n",
    "### 8:Religion_Not_Stated"
   ]
  },
  {
   "cell_type": "code",
   "execution_count": 136,
   "metadata": {
    "collapsed": true
   },
   "outputs": [],
   "source": [
    "def religion_propotion(val):\n",
    "    \n",
    "       ## Religion Name\n",
    "    col_name = ['Hindus', 'Muslims', 'Christians', 'Sikhs', 'Buddhists', 'Jains','Others_Religions','Religion_Not_Stated']\n",
    "    \n",
    "    ## if val in range of religion_column_size \n",
    "    if (val <= 0 or val>8) :\n",
    "        print('Please Enter valid Value')\n",
    "        return ;\n",
    "    \n",
    "    rel_pol = census_data.groupby('State name')[col_name[val-1]].agg('sum')  ## Count of population for a particular religion   \n",
    "    tot_pop = census_data.groupby('State name')['Population'].agg('sum')    ## Count of population for a particular religion   \n",
    "    rel_per = (rel_pol/tot_pop)*100                       ## calculating of % for each state \n",
    "    \n",
    "     ### Intensity Plot\n",
    "    india = gpd.read_file('INDIA.shx')\n",
    "    india['Rel_per'] = rel_per.values\n",
    "    india.plot(column = 'Rel_per',cmap='Blues',legend=True)\n",
    "    plt.axis('off')\n",
    "    plt.title(col_name[val-1]+'Percentange across india')\n",
    "    plt.show() "
   ]
  },
  {
   "cell_type": "code",
   "execution_count": 137,
   "metadata": {},
   "outputs": [
    {
     "data": {
      "image/png": "[encoded data removed]",
      "text/plain": [
       "<matplotlib.figure.Figure at 0x7f1a56ffa208>"
      ]
     },
     "metadata": {},
     "output_type": "display_data"
    }
   ],
   "source": [
    "religion_propotion(1)"
   ]
  },
  {
   "cell_type": "markdown",
   "metadata": {
    "collapsed": true
   },
   "source": [
    "#                                          Thank You"
   ]
  }
 ],
 "metadata": {
  "kernelspec": {
   "display_name": "Python [conda env:geopandas]",
   "language": "python",
   "name": "conda-env-geopandas-py"
  },
  "language_info": {
   "codemirror_mode": {
    "name": "ipython",
    "version": 3
   },
   "file_extension": ".py",
   "mimetype": "text/x-python",
   "name": "python",
   "nbconvert_exporter": "python",
   "pygments_lexer": "ipython3",
   "version": "3.6.3"
  }
 },
 "nbformat": 4,
 "nbformat_minor": 2
}
